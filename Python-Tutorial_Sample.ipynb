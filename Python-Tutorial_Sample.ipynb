{
 "cells": [
  {
   "cell_type": "code",
   "execution_count": 8,
   "id": "5aa70b92-696d-45fd-a2f4-240b20458053",
   "metadata": {},
   "outputs": [
    {
     "name": "stdout",
     "output_type": "stream",
     "text": [
      "212\n",
      "345\n"
     ]
    }
   ],
   "source": [
    "L1 = [ 10,20, 30,25, 32, 45,50]\n",
    "L2 = [ 80,70,78,55,62]\n",
    "print(sum(L1))\n",
    "print(sum(L2))\n",
    "\n"
   ]
  },
  {
   "cell_type": "code",
   "execution_count": 12,
   "id": "2726d795-f213-4c5b-b9fe-484571057bcb",
   "metadata": {},
   "outputs": [],
   "source": [
    "import math\n"
   ]
  },
  {
   "cell_type": "code",
   "execution_count": 14,
   "id": "a8911dd2-8ebf-41ac-9e4e-5f0c08399460",
   "metadata": {},
   "outputs": [
    {
     "data": {
      "text/plain": [
       "4.0"
      ]
     },
     "execution_count": 14,
     "metadata": {},
     "output_type": "execute_result"
    }
   ],
   "source": [
    "math.sqrt(16)"
   ]
  },
  {
   "cell_type": "code",
   "execution_count": 16,
   "id": "b79b1c9e-e606-41b8-8f2f-031382f6ee41",
   "metadata": {},
   "outputs": [
    {
     "data": {
      "text/plain": [
       "32.0"
      ]
     },
     "execution_count": 16,
     "metadata": {},
     "output_type": "execute_result"
    }
   ],
   "source": [
    "math.pow(2,5)"
   ]
  },
  {
   "cell_type": "code",
   "execution_count": 20,
   "id": "26771873-f132-4770-895b-42bc3b4ff12a",
   "metadata": {},
   "outputs": [],
   "source": [
    "import calendar\n"
   ]
  },
  {
   "cell_type": "code",
   "execution_count": 26,
   "id": "3c185c8d-a3ca-40c1-9607-d933e1dcb00b",
   "metadata": {},
   "outputs": [
    {
     "name": "stdout",
     "output_type": "stream",
     "text": [
      "     March 2025\n",
      "Mo Tu We Th Fr Sa Su\n",
      "                1  2\n",
      " 3  4  5  6  7  8  9\n",
      "10 11 12 13 14 15 16\n",
      "17 18 19 20 21 22 23\n",
      "24 25 26 27 28 29 30\n",
      "31\n",
      "\n",
      "     April 2025\n",
      "Mo Tu We Th Fr Sa Su\n",
      "    1  2  3  4  5  6\n",
      " 7  8  9 10 11 12 13\n",
      "14 15 16 17 18 19 20\n",
      "21 22 23 24 25 26 27\n",
      "28 29 30\n",
      "\n"
     ]
    }
   ],
   "source": [
    "cal = calendar.month(2025, 3)\n",
    "print(cal)\n",
    "cal = calendar.month(2025, 4)\n",
    "print (cal)"
   ]
  },
  {
   "cell_type": "code",
   "execution_count": 28,
   "id": "715ef415-dda4-4b25-8b79-a5f3b81fd8d8",
   "metadata": {},
   "outputs": [
    {
     "data": {
      "text/plain": [
       "['APRIL',\n",
       " 'AUGUST',\n",
       " 'Calendar',\n",
       " 'DECEMBER',\n",
       " 'Day',\n",
       " 'EPOCH',\n",
       " 'FEBRUARY',\n",
       " 'FRIDAY',\n",
       " 'HTMLCalendar',\n",
       " 'IllegalMonthError',\n",
       " 'IllegalWeekdayError',\n",
       " 'IntEnum',\n",
       " 'JANUARY',\n",
       " 'JULY',\n",
       " 'JUNE',\n",
       " 'LocaleHTMLCalendar',\n",
       " 'LocaleTextCalendar',\n",
       " 'MARCH',\n",
       " 'MAY',\n",
       " 'MONDAY',\n",
       " 'Month',\n",
       " 'NOVEMBER',\n",
       " 'OCTOBER',\n",
       " 'SATURDAY',\n",
       " 'SEPTEMBER',\n",
       " 'SUNDAY',\n",
       " 'THURSDAY',\n",
       " 'TUESDAY',\n",
       " 'TextCalendar',\n",
       " 'WEDNESDAY',\n",
       " '_EPOCH_ORD',\n",
       " '__all__',\n",
       " '__builtins__',\n",
       " '__cached__',\n",
       " '__doc__',\n",
       " '__file__',\n",
       " '__getattr__',\n",
       " '__loader__',\n",
       " '__name__',\n",
       " '__package__',\n",
       " '__spec__',\n",
       " '_colwidth',\n",
       " '_get_default_locale',\n",
       " '_locale',\n",
       " '_localized_day',\n",
       " '_localized_month',\n",
       " '_monthlen',\n",
       " '_nextmonth',\n",
       " '_prevmonth',\n",
       " '_spacing',\n",
       " 'c',\n",
       " 'calendar',\n",
       " 'datetime',\n",
       " 'day_abbr',\n",
       " 'day_name',\n",
       " 'different_locale',\n",
       " 'error',\n",
       " 'firstweekday',\n",
       " 'format',\n",
       " 'formatstring',\n",
       " 'global_enum',\n",
       " 'isleap',\n",
       " 'leapdays',\n",
       " 'main',\n",
       " 'mdays',\n",
       " 'month',\n",
       " 'month_abbr',\n",
       " 'month_name',\n",
       " 'monthcalendar',\n",
       " 'monthrange',\n",
       " 'prcal',\n",
       " 'prmonth',\n",
       " 'prweek',\n",
       " 'repeat',\n",
       " 'setfirstweekday',\n",
       " 'sys',\n",
       " 'timegm',\n",
       " 'warnings',\n",
       " 'week',\n",
       " 'weekday',\n",
       " 'weekheader']"
      ]
     },
     "execution_count": 28,
     "metadata": {},
     "output_type": "execute_result"
    }
   ],
   "source": [
    "dir(calendar)"
   ]
  },
  {
   "cell_type": "code",
   "execution_count": 37,
   "id": "e40edd3e-5181-44d2-8ecd-de47f39c899d",
   "metadata": {},
   "outputs": [],
   "source": [
    "def fun():\n",
    "    print(\"welcome to Dphi\")\n"
   ]
  },
  {
   "cell_type": "markdown",
   "id": "8b809090-89b7-4e11-b348-5c27c70bce3a",
   "metadata": {},
   "source": [
    "# Assistant\n",
    "The selected code defines a recursive function that will cause a stack overflow. Here's a step-by-step explanation:\n",
    "\n",
    "1. `def fun():` - This line defines a new function named `fun` that takes no parameters.\n",
    "\n",
    "2. `print(\"welcome to Dphi\")` - Inside the function, this line prints the string \"welcome to Dphi\".\n",
    "\n",
    "3. `fun()` - This line calls the `fun` function from within itself, creating a recursive call with no base case or exit condition.\n",
    "\n",
    "This is problematic because each time `fun()` is called, it will print the message and then call itself again, creating an infinite recursion. Without a base case to stop the recursion, this will eventually cause a \"RecursionError: maximum recursion depth exceeded\" when the call stack gets too deep."
   ]
  },
  {
   "cell_type": "code",
   "execution_count": 39,
   "id": "3245c76a-5b8b-46b8-80ed-8034852592e7",
   "metadata": {},
   "outputs": [
    {
     "name": "stdout",
     "output_type": "stream",
     "text": [
      "welcome to Dphi\n"
     ]
    }
   ],
   "source": [
    "    fun()"
   ]
  },
  {
   "cell_type": "code",
   "execution_count": 43,
   "id": "822d6784-d1e5-48be-b6b4-295316aa291c",
   "metadata": {},
   "outputs": [],
   "source": [
    "def add(num1:int, num2:int) ->int:\n",
    "    #Add two numbers \n",
    "    num3 = num1+num2\n",
    "    return num3\n",
    "    "
   ]
  },
  {
   "cell_type": "code",
   "execution_count": 47,
   "id": "8196a2fd-892f-4b5d-8086-3c48e1f1d889",
   "metadata": {},
   "outputs": [
    {
     "name": "stdout",
     "output_type": "stream",
     "text": [
      "the addition of 5 and 15 results 20.\n"
     ]
    }
   ],
   "source": [
    "num1, num2 = 5, 15\n",
    "ans = add(num1, num2)\n",
    "print(f\"the addition of {num1} and {num2} results {ans}.\")\n"
   ]
  },
  {
   "cell_type": "code",
   "execution_count": 52,
   "id": "89e8e7e2-ad5a-44c6-9cbe-4365b41eace0",
   "metadata": {},
   "outputs": [],
   "source": [
    "python_list =[2,4,6,8,10]"
   ]
  },
  {
   "cell_type": "code",
   "execution_count": 54,
   "id": "5c760189-82f7-43e0-afb1-516a7f2a7eb1",
   "metadata": {},
   "outputs": [
    {
     "data": {
      "text/plain": [
       "[2, 4, 6, 8, 10]"
      ]
     },
     "execution_count": 54,
     "metadata": {},
     "output_type": "execute_result"
    }
   ],
   "source": [
    "python_list"
   ]
  },
  {
   "cell_type": "markdown",
   "id": "cc6d1c90-1fa6-4bd0-a9e0-8f2dfe79b003",
   "metadata": {},
   "source": [
    "# Assistant\n",
    "The selected code performs a simple addition operation and prints the result. Here's a step-by-step explanation:\n",
    "\n",
    "1. `num1, num2 = 5, 15` - This line assigns the value 5 to the variable `num1` and 15 to the variable `num2` using multiple assignment.\n",
    "\n",
    "2. `ans = add(num1, num2)` - This line calls a function named `add` with the arguments `num1` and `num2`, and assigns the returned result to the variable `ans`. Note that the `add` function must be defined elsewhere in the code.\n",
    "\n",
    "3. `print(\"the addition of {num1} and {num2} results {ans}.\")` - This line attempts to print a formatted string, but there's an issue: it uses curly braces without f-string notation. To properly display the variable values, it should be written as `f\"the addition of {num1} and {num2} results {ans}.\"` with an 'f' prefix."
   ]
  },
  {
   "cell_type": "code",
   "execution_count": 74,
   "id": "f63122e1-0ba7-4706-860d-01f1fc45b169",
   "metadata": {},
   "outputs": [],
   "source": [
    "import numpy as np"
   ]
  },
  {
   "cell_type": "code",
   "execution_count": 76,
   "id": "1e0a2f3d-b558-4b4d-88d3-8cd546ea9870",
   "metadata": {},
   "outputs": [],
   "source": [
    "numpy_array1 = np.array(python_list)\n",
    "#Display the numpy array\n"
   ]
  },
  {
   "cell_type": "code",
   "execution_count": 78,
   "id": "699f501d-ebff-453f-9397-356cfc3f3e10",
   "metadata": {},
   "outputs": [
    {
     "data": {
      "text/plain": [
       "array([ 2,  4,  6,  8, 10])"
      ]
     },
     "execution_count": 78,
     "metadata": {},
     "output_type": "execute_result"
    }
   ],
   "source": [
    "numpy_array1\n"
   ]
  },
  {
   "cell_type": "code",
   "execution_count": 80,
   "id": "250ad429-0527-495f-98f8-de007db04dc7",
   "metadata": {},
   "outputs": [],
   "source": [
    "# Create two python List say 'List_x' and 'List_your'\n",
    "X_list = list(range(100000))\n",
    "Y_list = list(range(100000))"
   ]
  },
  {
   "cell_type": "code",
   "execution_count": 82,
   "id": "7b6d166f-9b17-409d-9cc8-cfb3e21a2c03",
   "metadata": {},
   "outputs": [],
   "source": [
    "# Import numpy Library\n",
    "import numpy as np\n",
    "# Create two numpy array (say 'X' end 'Y') using above two list\n",
    "X = np.array(X_list)\n",
    "Y = np.array(Y_list)"
   ]
  },
  {
   "cell_type": "code",
   "execution_count": 84,
   "id": "3f98731a-ca56-452b-8f70-bee254b5fa96",
   "metadata": {},
   "outputs": [],
   "source": [
    "# Define a function to calculate sum\n",
    "# using python Lists X_list, Y_list)\n",
    "def pure_python_version():\n",
    "    Z = []\n",
    "    for i in range(len(X_list)):\n",
    "        Z.append(X_list[i] + Y_list[i])"
   ]
  },
  {
   "cell_type": "code",
   "execution_count": 86,
   "id": "527b6c4b-f2a2-4752-ad7b-f678ba7c0ae3",
   "metadata": {},
   "outputs": [],
   "source": [
    "# Define a function to calculate sum\n",
    "# using numpy arrays (X, Y)\n",
    "def numpy_version():\n",
    "# In numpy we can directly perform\n",
    "# sum element-wise as\n",
    "    Z = X + Y "
   ]
  },
  {
   "cell_type": "code",
   "execution_count": 88,
   "id": "aad75228-8b7e-49ff-ae3d-b1d66a2b0eda",
   "metadata": {},
   "outputs": [],
   "source": [
    "# Import Timer class from timeit Library\n",
    "from timeit import Timer"
   ]
  },
  {
   "cell_type": "code",
   "execution_count": 90,
   "id": "c0a8a275-1eb8-46b6-aafa-692472b4a7c3",
   "metadata": {},
   "outputs": [
    {
     "name": "stdout",
     "output_type": "stream",
     "text": [
      "Pure python version: 12.875965575998634\n",
      "Numpy version: 0.19206730199948652\n"
     ]
    }
   ],
   "source": [
    "timer_obj1 = Timer(\"pure_python_version()\", \n",
    "                   \"from __main__ import pure_python_version\")\n",
    "timer_obj2 = Timer(\"numpy_version()\", \n",
    "                   \"from __main__ import numpy_version\")\n",
    "\n",
    "print(\"Pure python version:\",timer_obj1.timeit(1000))\n",
    "print(\"Numpy version:\",timer_obj2.timeit(1000))"
   ]
  },
  {
   "cell_type": "code",
   "execution_count": 92,
   "id": "81a499cc-ba20-44df-ae4e-a2445e723cb9",
   "metadata": {},
   "outputs": [],
   "source": [
    "#Import Numpy Library\n",
    "import numpy as np\n"
   ]
  },
  {
   "cell_type": "code",
   "execution_count": 96,
   "id": "0b160eb1-8ebd-4490-ac3b-4e446e414c55",
   "metadata": {},
   "outputs": [],
   "source": [
    "arr = np.array([[5,6,7], [11,12,13], [1,2,3]])\n"
   ]
  },
  {
   "cell_type": "code",
   "execution_count": 98,
   "id": "abc7cd1b-b86d-423c-9226-64d7c82a0a69",
   "metadata": {},
   "outputs": [
    {
     "data": {
      "text/plain": [
       "array([[ 5,  6,  7],\n",
       "       [11, 12, 13],\n",
       "       [ 1,  2,  3]])"
      ]
     },
     "execution_count": 98,
     "metadata": {},
     "output_type": "execute_result"
    }
   ],
   "source": [
    "arr"
   ]
  },
  {
   "cell_type": "code",
   "execution_count": 102,
   "id": "fa39be22-7abb-472e-8db1-353484dcd07a",
   "metadata": {},
   "outputs": [
    {
     "data": {
      "text/plain": [
       "9"
      ]
     },
     "execution_count": 102,
     "metadata": {},
     "output_type": "execute_result"
    }
   ],
   "source": [
    "arr.size\n"
   ]
  },
  {
   "cell_type": "code",
   "execution_count": 104,
   "id": "2fd0f0b2-d07d-46e8-a8c9-fa93973d3cd9",
   "metadata": {},
   "outputs": [
    {
     "data": {
      "text/plain": [
       "dtype('int64')"
      ]
     },
     "execution_count": 104,
     "metadata": {},
     "output_type": "execute_result"
    }
   ],
   "source": [
    "arr.dtype\n"
   ]
  },
  {
   "cell_type": "code",
   "execution_count": 106,
   "id": "09c73fe6-187f-4737-b58e-559d844103f1",
   "metadata": {},
   "outputs": [
    {
     "data": {
      "text/plain": [
       "(3, 3)"
      ]
     },
     "execution_count": 106,
     "metadata": {},
     "output_type": "execute_result"
    }
   ],
   "source": [
    "arr.shape"
   ]
  },
  {
   "cell_type": "code",
   "execution_count": 108,
   "id": "fef2e11e-0964-42dd-b363-3270b4c7843a",
   "metadata": {},
   "outputs": [
    {
     "data": {
      "text/plain": [
       "2"
      ]
     },
     "execution_count": 108,
     "metadata": {},
     "output_type": "execute_result"
    }
   ],
   "source": [
    "arr.ndim"
   ]
  },
  {
   "cell_type": "code",
   "execution_count": 110,
   "id": "2606cabb-16fe-418f-b650-15b9176a338a",
   "metadata": {},
   "outputs": [],
   "source": [
    "#Create a Python List \n",
    "python_list = [1,2,3,4]\n"
   ]
  },
  {
   "cell_type": "code",
   "execution_count": 112,
   "id": "b55f8a5a-9278-487e-836a-4f4329277a64",
   "metadata": {},
   "outputs": [
    {
     "data": {
      "text/plain": [
       "list"
      ]
     },
     "execution_count": 112,
     "metadata": {},
     "output_type": "execute_result"
    }
   ],
   "source": [
    "type(python_list)"
   ]
  },
  {
   "cell_type": "code",
   "execution_count": 114,
   "id": "84f5d246-74ea-45e9-aad2-6a1be26baf85",
   "metadata": {},
   "outputs": [],
   "source": [
    "list = [2, 5, 8, 6, 4, 12, 16, 15]\n"
   ]
  },
  {
   "cell_type": "code",
   "execution_count": 118,
   "id": "4c6049cc-45ff-4506-8687-9e72db84b43d",
   "metadata": {},
   "outputs": [
    {
     "data": {
      "text/plain": [
       "['Python', 'C++', 'JavaScript']"
      ]
     },
     "execution_count": 118,
     "metadata": {},
     "output_type": "execute_result"
    }
   ],
   "source": [
    "# a list of programming languages\n",
    "['Python', 'C++', 'JavaScript']"
   ]
  },
  {
   "cell_type": "code",
   "execution_count": 120,
   "id": "2f896769-4be0-4279-b21f-1b9c40206861",
   "metadata": {},
   "outputs": [],
   "source": [
    "# list of integers\n",
    "my_list = [1, 2, 3]"
   ]
  },
  {
   "cell_type": "code",
   "execution_count": 122,
   "id": "06539ab0-a582-4e59-8e39-9ec8f65a3d91",
   "metadata": {},
   "outputs": [
    {
     "name": "stdout",
     "output_type": "stream",
     "text": [
      "[9, 'Espanol', 4.6, ['a', 'b', 'c']]\n"
     ]
    }
   ],
   "source": [
    "# list with mixed data types\n",
    "my_list = [9, \"Espanol\", 4.6, ['a','b','c']]\n",
    "print(my_list)"
   ]
  },
  {
   "cell_type": "code",
   "execution_count": 124,
   "id": "c8273eb6-32fc-4a4d-9fd2-42f97363f7d1",
   "metadata": {},
   "outputs": [
    {
     "name": "stdout",
     "output_type": "stream",
     "text": [
      "['mouse', [8, 4, 6], ['a']]\n"
     ]
    }
   ],
   "source": [
    "# nested list\n",
    "my_list = [\"mouse\", [8, 4, 6], ['a']]\n",
    "print(my_list)"
   ]
  },
  {
   "cell_type": "code",
   "execution_count": 126,
   "id": "c827e763-96af-4e9a-9693-d5ba008c9499",
   "metadata": {},
   "outputs": [
    {
     "name": "stdout",
     "output_type": "stream",
     "text": [
      "[1, 2, 3, 4, 5]\n",
      "['a', 'b', 'c', 'd', 'e']\n",
      "[[1, 2, 3, 4], [5, 6, 7, 8]]\n"
     ]
    }
   ],
   "source": [
    "# An array of integers.\n",
    "print([1, 2, 3, 4, 5])\n",
    "\n",
    "# An array of strings.\n",
    "print([ 'a', 'b', 'c', 'd', 'e' ])\n",
    "\n",
    "# A 2 dimensional array.\n",
    "print([[ 1 , 2 , 3 , 4],\n",
    "[ 5, 6, 7, 8 ]])"
   ]
  },
  {
   "cell_type": "code",
   "execution_count": 128,
   "id": "fb1d75d1-0df8-46cf-89e6-8d12e4b857a9",
   "metadata": {},
   "outputs": [
    {
     "name": "stdout",
     "output_type": "stream",
     "text": [
      "<class 'list'>\n",
      "<class 'numpy.ndarray'>\n"
     ]
    }
   ],
   "source": [
    "heights = [165, 170, 171, 180, 189, 178]\n",
    "print(type(heights))\n",
    "\n",
    "heights_np = np.array(heights)\n",
    "print(type(heights_np))"
   ]
  },
  {
   "cell_type": "code",
   "execution_count": 130,
   "id": "5f20cbee-9e63-49ae-8a61-3efc8e8800e9",
   "metadata": {},
   "outputs": [],
   "source": [
    "import numpy as np\n"
   ]
  },
  {
   "cell_type": "code",
   "execution_count": 132,
   "id": "5dd3e542-5786-439b-a4a2-ee988932557b",
   "metadata": {},
   "outputs": [
    {
     "name": "stdout",
     "output_type": "stream",
     "text": [
      "<class 'list'>\n",
      "<class 'numpy.ndarray'>\n"
     ]
    }
   ],
   "source": [
    "heights = [165, 170, 171, 180, 189, 178]\n",
    "print(type(heights))\n",
    "\n",
    "heights_np = np.array(heights)\n",
    "print(type(heights_np))"
   ]
  },
  {
   "cell_type": "code",
   "execution_count": 134,
   "id": "31830d90-a97b-4005-8ff7-306106e8f275",
   "metadata": {},
   "outputs": [
    {
     "name": "stdout",
     "output_type": "stream",
     "text": [
      "[[50 45 56 78]\n",
      " [78 89 59 90]\n",
      " [89 78 69 70]\n",
      " [67 69 89 70]\n",
      " [90 89 80 84]\n",
      " [89 59 90 78]]\n"
     ]
    }
   ],
   "source": [
    "weights = np.array([[50, 45, 56, 78],[78, 89, 59, 90],[89, 78, 69, 70],[67, 69, 89, 70],[90,89, 80, 84],[89, 59, 90, 78]])\n",
    "print(weights)"
   ]
  },
  {
   "cell_type": "code",
   "execution_count": 136,
   "id": "1bb942f1-b43d-4842-a88b-8a40e0badaff",
   "metadata": {},
   "outputs": [
    {
     "name": "stdout",
     "output_type": "stream",
     "text": [
      "[1 2 3 4 5]\n"
     ]
    }
   ],
   "source": [
    "arr = np.array((1, 2, 3, 4, 5))\n",
    "print(arr)"
   ]
  },
  {
   "cell_type": "code",
   "execution_count": 138,
   "id": "c8e3513f-9ec8-4499-bee7-0506cc865797",
   "metadata": {},
   "outputs": [
    {
     "name": "stdout",
     "output_type": "stream",
     "text": [
      "dimension: 2\n",
      "shape: (6, 4)\n",
      "size: 24\n",
      "dtype: int64\n",
      "strides: (32, 8)\n"
     ]
    }
   ],
   "source": [
    "print(\"dimension:\", weights.ndim)\n",
    "print(\"shape:\", weights.shape)\n",
    "print(\"size:\", weights.size)\n",
    "print(\"dtype:\", weights.dtype)\n",
    "print(\"strides:\", weights.strides)"
   ]
  },
  {
   "cell_type": "code",
   "execution_count": 140,
   "id": "dda1ad9e-0357-4705-910e-60e506beef7e",
   "metadata": {},
   "outputs": [
    {
     "name": "stdout",
     "output_type": "stream",
     "text": [
      "0\n",
      "1\n",
      "2\n",
      "3\n"
     ]
    }
   ],
   "source": [
    "import numpy as np\n",
    "\n",
    "a = np.array(42)\n",
    "b = np.array([1, 2, 3, 4, 5])\n",
    "c = np.array([[1, 2, 3], [4, 5, 6]])\n",
    "d = np.array([[[1, 2, 3], [4, 5, 6]], [[1, 2, 3], [4, 5, 6]]])\n",
    "\n",
    "print(a.ndim)\n",
    "print(b.ndim)\n",
    "print(c.ndim)\n",
    "print(d.ndim)"
   ]
  },
  {
   "cell_type": "code",
   "execution_count": 142,
   "id": "e6dbbb16-abc0-45de-95b6-3de7c76512ef",
   "metadata": {},
   "outputs": [
    {
     "name": "stdout",
     "output_type": "stream",
     "text": [
      "[[0 0 0 0 0]\n",
      " [0 0 0 0 0]\n",
      " [0 0 0 0 0]]\n"
     ]
    }
   ],
   "source": [
    "# Creating a 3X5 array with all zeros\n",
    "x = np.zeros(shape=(3,5), dtype =\"int32\")\n",
    "print(x)"
   ]
  },
  {
   "cell_type": "code",
   "execution_count": 144,
   "id": "846d3184-2586-41eb-91d5-a0266a6d12c6",
   "metadata": {},
   "outputs": [
    {
     "name": "stdout",
     "output_type": "stream",
     "text": [
      "\n",
      "A complex array initialized with all 5s. [[5.+0.j 5.+0.j 5.+0.j 5.+0.j]\n",
      " [5.+0.j 5.+0.j 5.+0.j 5.+0.j]\n",
      " [5.+0.j 5.+0.j 5.+0.j 5.+0.j]\n",
      " [5.+0.j 5.+0.j 5.+0.j 5.+0.j]]\n"
     ]
    }
   ],
   "source": [
    "# Creating an array of complex type having constant values\n",
    "constant = np.full((4, 4), fill_value=5, dtype = 'complex')\n",
    "print (\"\\nA complex array initialized with all 5s.\", constant)"
   ]
  },
  {
   "cell_type": "code",
   "execution_count": 146,
   "id": "892ec3ea-6549-48f0-9a90-fff7b87ffd7d",
   "metadata": {},
   "outputs": [
    {
     "name": "stdout",
     "output_type": "stream",
     "text": [
      "\n",
      "A random array:\n",
      " [[0.75263837 0.1309743  0.62088413 0.54653336]\n",
      " [0.1685628  0.5216655  0.96580668 0.41741468]\n",
      " [0.69011509 0.17393083 0.84744369 0.13057098]\n",
      " [0.42832151 0.17819353 0.13614854 0.59905223]]\n"
     ]
    }
   ],
   "source": [
    "# Create an array with random values\n",
    "e = np.random.random((4, 4))\n",
    "print (\"\\nA random array:\\n\", e)"
   ]
  },
  {
   "cell_type": "code",
   "execution_count": 148,
   "id": "db77f2e0-88fa-4610-b83e-fab511296231",
   "metadata": {},
   "outputs": [
    {
     "name": "stdout",
     "output_type": "stream",
     "text": [
      "\n",
      "A sequential array with steps of 100:\n",
      " [100 200 300 400 500 600 700 800 900]\n"
     ]
    }
   ],
   "source": [
    "# Create a sequence of integers from 100 to 1000 with steps of 100\n",
    "f = np.arange(start=100, stop=1000, step=100, dtype=\"int32\")\n",
    "print (\"\\nA sequential array with steps of 100:\\n\", f)"
   ]
  },
  {
   "cell_type": "code",
   "execution_count": 150,
   "id": "d3171166-86b8-46ba-91f7-55d1c3b84363",
   "metadata": {},
   "outputs": [
    {
     "name": "stdout",
     "output_type": "stream",
     "text": [
      "\n",
      "A sequential array with 10 values between0 and 5:\n",
      " [0.         0.55555556 1.11111111 1.66666667 2.22222222 2.77777778\n",
      " 3.33333333 3.88888889 4.44444444 5.        ]\n"
     ]
    }
   ],
   "source": [
    "# Create a sequence of 10 values in range 0 to 5\n",
    "g = np.linspace(0, 5, 10)\n",
    "print (\"\\nA sequential array with 10 values between\"\n",
    "\"0 and 5:\\n\", g)"
   ]
  },
  {
   "cell_type": "code",
   "execution_count": 152,
   "id": "bf1ebbdd-3940-487c-9c3d-440b6c3c565a",
   "metadata": {},
   "outputs": [
    {
     "name": "stdout",
     "output_type": "stream",
     "text": [
      "\n",
      "Original array:\n",
      " [[50 45 56 78]\n",
      " [78 89 59 90]\n",
      " [89 78 69 70]\n",
      " [67 69 89 70]\n",
      " [90 89 80 84]\n",
      " [89 59 90 78]]\n",
      "Reshaped array:\n",
      " [[[50 45]\n",
      "  [56 78]\n",
      "  [78 89]\n",
      "  [59 90]\n",
      "  [89 78]\n",
      "  [69 70]]\n",
      "\n",
      " [[67 69]\n",
      "  [89 70]\n",
      "  [90 89]\n",
      "  [80 84]\n",
      "  [89 59]\n",
      "  [90 78]]]\n"
     ]
    }
   ],
   "source": [
    "# Reshaping 3X4 array to 2X2X3 array\n",
    "arr = np.array([[50, 45, 56, 78],[78, 89, 59, 90],[89, 78, 69, 70],[67, 69, 89, 70],[90,89, 80, 84],[89, 59, 90, 78]])\n",
    "\n",
    "newarr = arr.reshape(2, 6, 2)\n",
    "\n",
    "print (\"\\nOriginal array:\\n\", arr)\n",
    "print (\"Reshaped array:\\n\", newarr)"
   ]
  },
  {
   "cell_type": "code",
   "execution_count": 154,
   "id": "1cf0eb5a-f2ff-4fed-b707-822e1cfe1b7a",
   "metadata": {},
   "outputs": [
    {
     "name": "stdout",
     "output_type": "stream",
     "text": [
      "\n",
      "Original array:\n",
      " [[1 2 3]\n",
      " [4 5 6]]\n",
      "Fattened array:\n",
      " [1 2 3 4 5 6]\n"
     ]
    }
   ],
   "source": [
    "# Flatten array\n",
    "arr = np.array([[1, 2, 3], [4, 5, 6]])\n",
    "flarr = arr.flatten()\n",
    "\n",
    "print (\"\\nOriginal array:\\n\", arr)\n",
    "print (\"Fattened array:\\n\", flarr)"
   ]
  },
  {
   "cell_type": "code",
   "execution_count": null,
   "id": "a01ebfc2-5e5b-4965-8ddf-f443fc5a5738",
   "metadata": {},
   "outputs": [],
   "source": []
  }
 ],
 "metadata": {
  "kernelspec": {
   "display_name": "Python [conda env:base] *",
   "language": "python",
   "name": "conda-base-py"
  },
  "language_info": {
   "codemirror_mode": {
    "name": "ipython",
    "version": 3
   },
   "file_extension": ".py",
   "mimetype": "text/x-python",
   "name": "python",
   "nbconvert_exporter": "python",
   "pygments_lexer": "ipython3",
   "version": "3.12.7"
  }
 },
 "nbformat": 4,
 "nbformat_minor": 5
}
