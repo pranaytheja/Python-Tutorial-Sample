{
 "cells": [
  {
   "cell_type": "code",
   "execution_count": 2,
   "id": "88da1e21-e66d-4dc9-9757-7ffb66e5df7a",
   "metadata": {},
   "outputs": [],
   "source": [
    "import numpy as np\n"
   ]
  },
  {
   "cell_type": "code",
   "execution_count": 4,
   "id": "a162cc40-8fc1-4637-8677-92eec123ef66",
   "metadata": {},
   "outputs": [],
   "source": [
    "arr = np.array([10,20,30,40])"
   ]
  },
  {
   "cell_type": "code",
   "execution_count": 6,
   "id": "e2286e3a-3bc7-476c-a95f-8dc8a7272b02",
   "metadata": {},
   "outputs": [
    {
     "data": {
      "text/plain": [
       "array([10, 20, 30, 40])"
      ]
     },
     "execution_count": 6,
     "metadata": {},
     "output_type": "execute_result"
    }
   ],
   "source": [
    "arr"
   ]
  },
  {
   "cell_type": "code",
   "execution_count": 10,
   "id": "37fb715c-218a-4fd5-96c9-be8406051a8e",
   "metadata": {},
   "outputs": [
    {
     "data": {
      "text/plain": [
       "30"
      ]
     },
     "execution_count": 10,
     "metadata": {},
     "output_type": "execute_result"
    }
   ],
   "source": [
    "arr[2]"
   ]
  },
  {
   "cell_type": "code",
   "execution_count": 12,
   "id": "48066ab8-33c8-4eed-a588-86f2bd191565",
   "metadata": {},
   "outputs": [],
   "source": [
    "arr = np.array([10,20,30,40])"
   ]
  },
  {
   "cell_type": "code",
   "execution_count": 14,
   "id": "20d536a5-6eec-433c-a4e2-c29b0910b1cb",
   "metadata": {},
   "outputs": [
    {
     "data": {
      "text/plain": [
       "30"
      ]
     },
     "execution_count": 14,
     "metadata": {},
     "output_type": "execute_result"
    }
   ],
   "source": [
    "arr[-2]"
   ]
  },
  {
   "cell_type": "code",
   "execution_count": 16,
   "id": "8cd65ea3-8108-4570-a685-4caa88daff8c",
   "metadata": {},
   "outputs": [],
   "source": [
    "#Introduction to Numpy 2\n",
    "#This is the second Notebook of the course Introduction to Numpy This notebooks covers the following topics\n",
    "\n",
    "#Attributes of an array and creating basic array\n",
    "\n",
    "#Basic Methods as append,remove,sort\n",
    "\n",
    "#Indexing and slicing\n",
    "\n",
    "\n",
    "#This is the second Notebook of the course Introduction to Numpy This notebooks covers the following topics\n",
    "\n",
    "#Attributes of an array and creating basic array\n",
    "#Basic Methods as append,remove,sort\n",
    "#Indexing and slicing\n"
   ]
  },
  {
   "cell_type": "code",
   "execution_count": 18,
   "id": "0207bf3b-a0ca-472a-b264-d72f35859230",
   "metadata": {},
   "outputs": [
    {
     "name": "stdout",
     "output_type": "stream",
     "text": [
      "[7 6 8 9]\n"
     ]
    }
   ],
   "source": [
    "import numpy as np\n",
    "a = np.array([7, 6, 8, 9])\n",
    "print(a)"
   ]
  },
  {
   "cell_type": "code",
   "execution_count": 20,
   "id": "e337b94e-b14d-44bb-8524-9c91daa91bc3",
   "metadata": {},
   "outputs": [
    {
     "name": "stdout",
     "output_type": "stream",
     "text": [
      "Adding 1 to every element: [ 8  7  9 10]\n"
     ]
    }
   ],
   "source": [
    "# adding 3 to every element\n",
    "a = np.array([7, 6, 8, 9])\n",
    "print (\"Adding 1 to every element:\", a+1)"
   ]
  },
  {
   "cell_type": "code",
   "execution_count": 22,
   "id": "f276069f-df3a-44bf-95a7-b76b1d112f42",
   "metadata": {},
   "outputs": [
    {
     "name": "stdout",
     "output_type": "stream",
     "text": [
      "Subtracting 3 from each element: [3 2 4 5]\n"
     ]
    }
   ],
   "source": [
    "# subtracting 4 from each element\n",
    "a = np.array([7, 6, 8, 9])\n",
    "print(\"Subtracting 3 from each element:\", a-4)"
   ]
  },
  {
   "cell_type": "code",
   "execution_count": 24,
   "id": "6196f056-eb20-439f-9429-e3c29fa34318",
   "metadata": {},
   "outputs": [
    {
     "name": "stdout",
     "output_type": "stream",
     "text": [
      "Multiplying each element by 5: [35 30 40 45]\n"
     ]
    }
   ],
   "source": [
    "# multiply each element by 10\n",
    "a = np.array([7, 6, 8, 9])\n",
    "print (\"Multiplying each element by 5:\", a*5)"
   ]
  },
  {
   "cell_type": "code",
   "execution_count": 26,
   "id": "c1e21393-6b56-48ce-ab5d-8b2c44ded3d2",
   "metadata": {},
   "outputs": [
    {
     "name": "stdout",
     "output_type": "stream",
     "text": [
      "Squaring each element: [49 36 64 81]\n"
     ]
    }
   ],
   "source": [
    "# squaring each element of the array\n",
    "print (\"Squaring each element:\", a**2)"
   ]
  },
  {
   "cell_type": "code",
   "execution_count": 28,
   "id": "2ce64751-718f-47b4-ac75-07fd96221ff2",
   "metadata": {},
   "outputs": [
    {
     "name": "stdout",
     "output_type": "stream",
     "text": [
      "Doubled each element of original array: [14 12 16 18]\n"
     ]
    }
   ],
   "source": [
    "# modify existing array\n",
    "a *= 2\n",
    "print (\"Doubled each element of original array:\", a)"
   ]
  },
  {
   "cell_type": "code",
   "execution_count": 30,
   "id": "1297c10d-5351-4e8f-a1ff-dd1afa403953",
   "metadata": {},
   "outputs": [
    {
     "name": "stdout",
     "output_type": "stream",
     "text": [
      "\n",
      "Original array is:\n",
      " [[3 1 2]\n",
      " [6 5 4]\n",
      " [7 9 8]]\n",
      "Transpose of array is:\n",
      " [[3 6 7]\n",
      " [1 5 9]\n",
      " [2 4 8]]\n"
     ]
    }
   ],
   "source": [
    "# transpose of array\n",
    "a = np.array([[3, 1, 2], [6, 5, 4], [7, 9, 8]])\n",
    "\n",
    "print (\"\\nOriginal array is:\\n\", a)\n",
    "print (\"Transpose of array is:\\n\", a.T)"
   ]
  },
  {
   "cell_type": "code",
   "execution_count": 32,
   "id": "8d072df5-cb7b-4f04-b492-678f98698922",
   "metadata": {},
   "outputs": [
    {
     "data": {
      "text/plain": [
       "array([1, 9, 8, 4, 5, 6, 7])"
      ]
     },
     "execution_count": 32,
     "metadata": {},
     "output_type": "execute_result"
    }
   ],
   "source": [
    "#Append\n",
    "arr = np.array([1,9,8,4,5,6])\n",
    "np.append(arr,7)"
   ]
  },
  {
   "cell_type": "code",
   "execution_count": 34,
   "id": "f4ae1009-d0f9-4f45-ae35-f77db342f3d7",
   "metadata": {},
   "outputs": [
    {
     "data": {
      "text/plain": [
       "array([ 2,  3,  5,  4,  7,  6, 10])"
      ]
     },
     "execution_count": 34,
     "metadata": {},
     "output_type": "execute_result"
    }
   ],
   "source": [
    "#Adding an element to a Python list using np.append() method. But the returned object is a NumPy array.\n",
    "l = [2,3,5,4,7,6]\n",
    "arr = np.append(l,10)\n",
    "arr"
   ]
  },
  {
   "cell_type": "code",
   "execution_count": 36,
   "id": "e2530b37-c123-45ea-adbe-dce3c81183c1",
   "metadata": {},
   "outputs": [
    {
     "data": {
      "text/plain": [
       "array([ 2,  3,  5,  4,  7,  6, 10, 11, 22])"
      ]
     },
     "execution_count": 36,
     "metadata": {},
     "output_type": "execute_result"
    }
   ],
   "source": [
    "np.append(arr, [11, 22])"
   ]
  },
  {
   "cell_type": "code",
   "execution_count": 38,
   "id": "0f4dbd27-a83d-484c-8678-c80d6eb090e5",
   "metadata": {},
   "outputs": [
    {
     "data": {
      "text/plain": [
       "array([2, 8, 9, 7, 6])"
      ]
     },
     "execution_count": 38,
     "metadata": {},
     "output_type": "execute_result"
    }
   ],
   "source": [
    "arr = np.array([2,5,8,9,7,6])\n",
    "np.delete(arr,1) #removing the element at index 1"
   ]
  },
  {
   "cell_type": "code",
   "execution_count": 40,
   "id": "f10f3681-dd28-49a5-b00e-a442a871e7e5",
   "metadata": {},
   "outputs": [
    {
     "name": "stdout",
     "output_type": "stream",
     "text": [
      "[1 2 3 4]\n"
     ]
    }
   ],
   "source": [
    "#sorting an array of integers\n",
    "arr = np.array([3, 2, 4, 1])\n",
    "print(np.sort(arr))"
   ]
  },
  {
   "cell_type": "code",
   "execution_count": 42,
   "id": "5f0dcc83-16c0-456d-9877-118dafcde289",
   "metadata": {},
   "outputs": [
    {
     "name": "stdout",
     "output_type": "stream",
     "text": [
      "['Lamborghini' 'Mercedes' 'Porsche']\n"
     ]
    }
   ],
   "source": [
    "#sorting an array alphabetically\n",
    "arr = np.array(['Lamborghini', 'Porsche', 'Mercedes'])\n",
    "print(np.sort(arr))"
   ]
  },
  {
   "cell_type": "code",
   "execution_count": 44,
   "id": "d61cb930-5b47-47b6-9e10-f91752730e8b",
   "metadata": {},
   "outputs": [
    {
     "name": "stdout",
     "output_type": "stream",
     "text": [
      "[[5 7 8]\n",
      " [2 3 6]]\n"
     ]
    }
   ],
   "source": [
    "#sorting a 2-D array\n",
    "arr = np.array([[5, 7, 8],\n",
    "[6, 2, 3]])\n",
    "print(np.sort(arr))"
   ]
  },
  {
   "cell_type": "code",
   "execution_count": 46,
   "id": "922a8b97-f37f-4338-b4f2-c6fbc835daf7",
   "metadata": {},
   "outputs": [
    {
     "name": "stdout",
     "output_type": "stream",
     "text": [
      "(array([3, 5, 6]),)\n"
     ]
    }
   ],
   "source": [
    "#Find the indexes where the value is 4:\n",
    "arr = np.array([1, 2, 3, 4, 5, 4, 4])\n",
    "array = np.where(arr == 4)\n",
    "print(array)"
   ]
  },
  {
   "cell_type": "code",
   "execution_count": 48,
   "id": "1f4b19de-99f9-4375-8e07-6645bd9b9e40",
   "metadata": {},
   "outputs": [
    {
     "name": "stdout",
     "output_type": "stream",
     "text": [
      "(array([1, 3, 5, 7]),)\n"
     ]
    }
   ],
   "source": [
    "#Find the indexes where the values are even:\n",
    "arr = np.array([1, 2, 3, 4, 5, 6, 7, 8])\n",
    "x = np.where(arr%2 == 0)\n",
    "print(x)"
   ]
  },
  {
   "cell_type": "code",
   "execution_count": 50,
   "id": "0f6e7f38-a9e3-4956-83df-3b6f04305a32",
   "metadata": {},
   "outputs": [],
   "source": [
    "# Indexing and Slicing\n",
    "#Array indexing\n",
    "#To access the content of an array we can use indexing through brackets [ ]. When using the brackets, we can access the elements on the list by:\n",
    "\n",
    "#Using a positive single index starting from 0\n",
    "#Using a negative single index starting from -1\n",
    "#Using positive index intervals using the start:end:step notation to specify starting and ending values as well as the step.\n",
    "#Using negative index intervals using the start:end:step notation to specify negative index starting and ending values as well as the step.\n",
    "#Occasionally, we can:\n",
    "\n",
    "#Get ride of the the step value as sart:end, so that by default we slice the data with a step of 1.\n",
    "#Get ride of the start value as :fin:step, and hence our start index will be 0, by default.\n",
    "#Omit the end value as start::step, specifying the final position as the end index by default.\n",
    "#Specify the range as ::step, and hence the start position will be 0 and the end position will be the last one of the array. Let's see how indexing works using the weights and heights_np arrays:\n",
    "#Array Indexing\n",
    "\n",
    "#Accessing Array elements from 1-D array "
   ]
  },
  {
   "cell_type": "code",
   "execution_count": 52,
   "id": "e1497463-0a49-4127-b218-2137541cff83",
   "metadata": {},
   "outputs": [
    {
     "name": "stdout",
     "output_type": "stream",
     "text": [
      "9\n"
     ]
    }
   ],
   "source": [
    "# Get the first element from the following array:\n",
    "import numpy as np\n",
    "arr = np.array([9, 8, 4, 5])\n",
    "print(arr[0])"
   ]
  },
  {
   "cell_type": "code",
   "execution_count": 54,
   "id": "3f60aa33-7aba-42b5-a349-191b4ed00ac5",
   "metadata": {},
   "outputs": [
    {
     "name": "stdout",
     "output_type": "stream",
     "text": [
      "2nd element on 1st row:  2\n"
     ]
    }
   ],
   "source": [
    "import numpy as np\n",
    "arr = np.array([[1,2,3,4,5],\n",
    "[6,7,8,9,10]])\n",
    "print('2nd element on 1st row: ', arr[0, 1])"
   ]
  },
  {
   "cell_type": "code",
   "execution_count": 56,
   "id": "d17eba5d-18c7-43b2-a31d-71d9614a1e11",
   "metadata": {},
   "outputs": [],
   "source": [
    "#Slicing arrays\n",
    "#Slicing in python means taking elements from one given index to another given index.\n",
    "\n",
    "#We pass slice instead of index like this: [start:end].\n",
    "#We can also define the step, like this: [start:end:step].\n",
    "#If we don't pass start its considered 0\n",
    "#If we don't pass end its considered length of array in that dimension\n",
    "#If we don't pass step its considered "
   ]
  },
  {
   "cell_type": "code",
   "execution_count": 58,
   "id": "03158e6d-c4ac-4fda-a3d7-77442df38b35",
   "metadata": {},
   "outputs": [
    {
     "name": "stdout",
     "output_type": "stream",
     "text": [
      "[81 23 34 56]\n"
     ]
    }
   ],
   "source": [
    "# Slicing elements from index 3 to index 7 in the following array:\n",
    "arr = np.array([22, 81, 23, 34, 56, 63, 71])\n",
    "print(arr[1:5])"
   ]
  },
  {
   "cell_type": "code",
   "execution_count": 60,
   "id": "9d950d2d-c545-4011-a2ee-4291faf22c46",
   "metadata": {},
   "outputs": [
    {
     "name": "stdout",
     "output_type": "stream",
     "text": [
      "[56 63 71]\n"
     ]
    }
   ],
   "source": [
    "# printing elements from index 4 to the end of the array using slicing\n",
    "arr = np.array([22, 81, 23, 34, 56, 63, 71])\n",
    "print(arr[4:])"
   ]
  },
  {
   "cell_type": "code",
   "execution_count": 62,
   "id": "be401184-5616-42a9-b9d9-f92c34668d3d",
   "metadata": {},
   "outputs": [
    {
     "name": "stdout",
     "output_type": "stream",
     "text": [
      "[22 81 23 34 56]\n"
     ]
    }
   ],
   "source": [
    "# Slice elements from the beginning to index 5 (not included):\n",
    "arr = np.array([22, 81, 23, 34, 56, 63, 71])\n",
    "print(arr[:5])"
   ]
  },
  {
   "cell_type": "code",
   "execution_count": 64,
   "id": "df43f102-342a-4698-b94d-229ecac447d6",
   "metadata": {},
   "outputs": [
    {
     "name": "stdout",
     "output_type": "stream",
     "text": [
      "[81 34]\n"
     ]
    }
   ],
   "source": [
    "#Return every second element from index 1 to index 5 :\n",
    "arr = np.array([22, 81, 23, 34, 56, 63, 71])\n",
    "print(arr[1:5:2])\n",
    "\n",
    "# [81, 23, 34, 56, 63] start from 81 and print elements at a distance of 2 from starting position"
   ]
  },
  {
   "cell_type": "code",
   "execution_count": 66,
   "id": "2e185cc9-7359-47c5-a72b-a4ab24438353",
   "metadata": {},
   "outputs": [
    {
     "name": "stdout",
     "output_type": "stream",
     "text": [
      "[1 3 5 7]\n"
     ]
    }
   ],
   "source": [
    "# Return every other element from the entire array:\n",
    "arr = np.array([1, 2, 3, 4, 5, 6, 7])\n",
    "print(arr[::2])"
   ]
  },
  {
   "cell_type": "code",
   "execution_count": 68,
   "id": "21c9aebc-1f18-4ff4-ad0b-615e51e3cc59",
   "metadata": {},
   "outputs": [
    {
     "name": "stdout",
     "output_type": "stream",
     "text": [
      "[7 8 9]\n"
     ]
    }
   ],
   "source": [
    "#Slicing 2-D Arrays\n",
    "# From the second element, slice elements from index 1 to index 4 (not included):\n",
    "\n",
    "arr = np.array([[1, 2, 3, 4, 5], [6, 7, 8, 9, 10]])\n",
    "print(arr[1, 1:4])"
   ]
  },
  {
   "cell_type": "code",
   "execution_count": 70,
   "id": "4bdf8656-2125-4f0b-bdea-ae2f5efde666",
   "metadata": {},
   "outputs": [
    {
     "name": "stdout",
     "output_type": "stream",
     "text": [
      "[4 7]\n"
     ]
    }
   ],
   "source": [
    "#From both elements, return index 2:\n",
    "arr = np.array([[1, 2, 4, 5, 3], [9, 8, 7, 6, 1]])\n",
    "print(arr[0:2, 2])\n"
   ]
  },
  {
   "cell_type": "code",
   "execution_count": 72,
   "id": "a6959e24-e3b0-48b0-aa33-f5ec1f42f9bc",
   "metadata": {},
   "outputs": [
    {
     "name": "stdout",
     "output_type": "stream",
     "text": [
      "[[2 3 4]\n",
      " [7 8 9]]\n"
     ]
    }
   ],
   "source": [
    "#From both elements, slice index 1 to index 4 (not included), this will return a 2-D array:\n",
    "arr = np.array([[1, 2, 3, 4, 5], [6, 7, 8, 9, 10]])\n",
    "print(arr[0:2, 1:4])"
   ]
  },
  {
   "cell_type": "code",
   "execution_count": 74,
   "id": "c382f3a9-c421-4e3d-925b-17720e583a30",
   "metadata": {},
   "outputs": [
    {
     "name": "stdout",
     "output_type": "stream",
     "text": [
      "[5 6]\n"
     ]
    }
   ],
   "source": [
    "# Slice from the index 3 from the end to index 1 from the end:\n",
    "arr = np.array([1, 2, 3, 4, 5, 6, 7])\n",
    "print(arr[-3:-1])"
   ]
  },
  {
   "cell_type": "code",
   "execution_count": 76,
   "id": "6f4cbd81-ca00-4bf0-9785-76f97f15c4d7",
   "metadata": {},
   "outputs": [
    {
     "name": "stdout",
     "output_type": "stream",
     "text": [
      "[8 9]\n"
     ]
    }
   ],
   "source": [
    "#printing the last two elements\n",
    "arr = np.array([0, 1, 2, 3, 6, 7, 8, 9])\n",
    "print(arr[-2:])"
   ]
  },
  {
   "cell_type": "code",
   "execution_count": 78,
   "id": "7dda16a1-d6b1-464a-bc68-953afc2037d6",
   "metadata": {},
   "outputs": [
    {
     "name": "stdout",
     "output_type": "stream",
     "text": [
      "[7 6]\n"
     ]
    }
   ],
   "source": [
    "print(arr[-3:3:-1])"
   ]
  },
  {
   "cell_type": "code",
   "execution_count": null,
   "id": "c986cbea-9bd2-40ea-950b-4248164fa052",
   "metadata": {},
   "outputs": [],
   "source": []
  }
 ],
 "metadata": {
  "kernelspec": {
   "display_name": "Python [conda env:base] *",
   "language": "python",
   "name": "conda-base-py"
  },
  "language_info": {
   "codemirror_mode": {
    "name": "ipython",
    "version": 3
   },
   "file_extension": ".py",
   "mimetype": "text/x-python",
   "name": "python",
   "nbconvert_exporter": "python",
   "pygments_lexer": "ipython3",
   "version": "3.12.7"
  }
 },
 "nbformat": 4,
 "nbformat_minor": 5
}
